{
 "cells": [
  {
   "cell_type": "code",
   "execution_count": 2,
   "id": "00856d0a-877d-46dd-ad0d-5059d8d14d80",
   "metadata": {},
   "outputs": [
    {
     "name": "stdout",
     "output_type": "stream",
     "text": [
      "original array: [32 53  6 43 34 64]\n",
      "Filtering for numbers between 20 and 50\n",
      "Extracted numbers [32 43 34]\n"
     ]
    }
   ],
   "source": [
    "import numpy as np\n",
    "data=np.array([32,53,6,43,34,64])\n",
    "min_val=20\n",
    "max_val=50\n",
    "print(\"original array:\", data)\n",
    "print(f\"Filtering for numbers between {min_val} and {max_val}\")\n",
    "filtered_data=data[(data>min_val)&(data<max_val)]\n",
    "print(\"Extracted numbers\",filtered_data)"
   ]
  },
  {
   "cell_type": "code",
   "execution_count": 9,
   "id": "c67b3b6b-552b-4f77-81aa-a745d414ae85",
   "metadata": {},
   "outputs": [
    {
     "ename": "SyntaxError",
     "evalue": "invalid syntax. Perhaps you forgot a comma? (835594956.py, line 14)",
     "output_type": "error",
     "traceback": [
      "\u001b[1;36m  Cell \u001b[1;32mIn[9], line 14\u001b[1;36m\u001b[0m\n\u001b[1;33m    print(\"Minimum values:\",min values)\u001b[0m\n\u001b[1;37m                            ^\u001b[0m\n\u001b[1;31mSyntaxError\u001b[0m\u001b[1;31m:\u001b[0m invalid syntax. Perhaps you forgot a comma?\n"
     ]
    }
   ],
   "source": [
    "import numpy as np\n",
    "arr = np.array([[10, 20, 5],\n",
    "               [15, 3, 25],\n",
    "               [30, 8, 12]])\n",
    "print(\"Original array:\")\n",
    "print(arr)\n",
    "max_indices = np.argmax(arr, axis=1)\n",
    "min_indices = np.argmin(arr, axis=1)\n",
    "print(\"\\nIndices of the maximum values along each row:\", max_indices)\n",
    "print(\"Indices of the minimum values along each row:\", min_indices)\n",
    "max_values = arr[np.arange(len(arr)), max_indices] # Added ']'\n",
    "min_values = arr[np.arange(len(arr)), min_indices] # Added ']'\n",
    "\n",
    "print(\"\\nMaximum values:\", max_values)\n",
    "print(\"Minimum values:\", min_values) # Corrected print statement (min_values)"
   ]
  },
  {
   "cell_type": "code",
   "execution_count": null,
   "id": "8b0735e5-1d72-4342-9b2f-52a7df1e5e2b",
   "metadata": {},
   "outputs": [],
   "source": []
  },
  {
   "cell_type": "code",
   "execution_count": null,
   "id": "00c7fa4b-3c9f-463e-bab9-be7c80bf3db1",
   "metadata": {},
   "outputs": [],
   "source": []
  }
 ],
 "metadata": {
  "kernelspec": {
   "display_name": "Python 3 (ipykernel)",
   "language": "python",
   "name": "python3"
  },
  "language_info": {
   "codemirror_mode": {
    "name": "ipython",
    "version": 3
   },
   "file_extension": ".py",
   "mimetype": "text/x-python",
   "name": "python",
   "nbconvert_exporter": "python",
   "pygments_lexer": "ipython3",
   "version": "3.13.5"
  }
 },
 "nbformat": 4,
 "nbformat_minor": 5
}
