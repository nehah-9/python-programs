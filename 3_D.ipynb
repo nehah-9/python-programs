{
 "cells": [
  {
   "cell_type": "code",
   "execution_count": null,
   "id": "b9c9aaaa-81db-4d04-a3e2-253087c6ec54",
   "metadata": {},
   "outputs": [],
   "source": []
  }
 ],
 "metadata": {
  "kernelspec": {
   "display_name": "",
   "name": ""
  },
  "language_info": {
   "name": ""
  }
 },
 "nbformat": 4,
 "nbformat_minor": 5
}
