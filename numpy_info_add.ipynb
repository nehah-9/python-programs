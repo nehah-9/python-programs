{
 "cells": [
  {
   "cell_type": "raw",
   "id": "572e18fb-cdc4-4a4e-8d73-80c9ee126f81",
   "metadata": {},
   "source": []
  },
  {
   "cell_type": "code",
   "execution_count": 1,
   "id": "55531048-9f25-4696-ad66-eb7dcdb3e523",
   "metadata": {},
   "outputs": [
    {
     "name": "stdout",
     "output_type": "stream",
     "text": [
      "add(x1, x2, /, out=None, *, where=True, casting='same_kind', order='K', dtype=None, subok=True[, signature])\n",
      "\n",
      "Add arguments element-wise.\n",
      "\n",
      "Parameters\n",
      "----------\n",
      "x1, x2 : array_like\n",
      "    The arrays to be added.\n",
      "    If ``x1.shape != x2.shape``, they must be broadcastable to a common\n",
      "    shape (which becomes the shape of the output).\n",
      "out : ndarray, None, or tuple of ndarray and None, optional\n",
      "    A location into which the result is stored. If provided, it must have\n",
      "    a shape that the inputs broadcast to. If not provided or None,\n",
      "    a freshly-allocated array is returned. A tuple (possible only as a\n",
      "    keyword argument) must have length equal to the number of outputs.\n",
      "where : array_like, optional\n",
      "    This condition is broadcast over the input. At locations where the\n",
      "    condition is True, the `out` array will be set to the ufunc result.\n",
      "    Elsewhere, the `out` array will retain its original value.\n",
      "    Note that if an uninitialized `out` array is created via the default\n",
      "    ``out=None``, locations within it where the condition is False will\n",
      "    remain uninitialized.\n",
      "**kwargs\n",
      "    For other keyword-only arguments, see the\n",
      "    :ref:`ufunc docs <ufuncs.kwargs>`.\n",
      "\n",
      "Returns\n",
      "-------\n",
      "add : ndarray or scalar\n",
      "    The sum of `x1` and `x2`, element-wise.\n",
      "    This is a scalar if both `x1` and `x2` are scalars.\n",
      "\n",
      "Notes\n",
      "-----\n",
      "Equivalent to `x1` + `x2` in terms of array broadcasting.\n",
      "\n",
      "Examples\n",
      "--------\n",
      ">>> import numpy as np\n",
      ">>> np.add(1.0, 4.0)\n",
      "5.0\n",
      ">>> x1 = np.arange(9.0).reshape((3, 3))\n",
      ">>> x2 = np.arange(3.0)\n",
      ">>> np.add(x1, x2)\n",
      "array([[  0.,   2.,   4.],\n",
      "       [  3.,   5.,   7.],\n",
      "       [  6.,   8.,  10.]])\n",
      "\n",
      "The ``+`` operator can be used as a shorthand for ``np.add`` on ndarrays.\n",
      "\n",
      ">>> x1 = np.arange(9.0).reshape((3, 3))\n",
      ">>> x2 = np.arange(3.0)\n",
      ">>> x1 + x2\n",
      "array([[ 0.,  2.,  4.],\n",
      "       [ 3.,  5.,  7.],\n",
      "       [ 6.,  8., 10.]])\n"
     ]
    }
   ],
   "source": [
    "import numpy as np\n",
    "np.info(np.add)\n"
   ]
  },
  {
   "cell_type": "code",
   "execution_count": 3,
   "id": "20275166-1c7f-47d4-94b7-7120ee5e1173",
   "metadata": {},
   "outputs": [
    {
     "name": "stdout",
     "output_type": "stream",
     "text": [
      "None of the elements is zero: True\n"
     ]
    }
   ],
   "source": [
    "arr=np.array([7,5,6,8,5])\n",
    "result=np.all(arr)\n",
    "print(\"None of the elements is zero:\",result)"
   ]
  },
  {
   "cell_type": "code",
   "execution_count": 4,
   "id": "3f0a6645-ef1a-43bb-b936-488245a5edbe",
   "metadata": {},
   "outputs": [
    {
     "name": "stdout",
     "output_type": "stream",
     "text": [
      "Array 1: [ 3 65  7  3 21]\n",
      "Array 2: [ 5 34 75  2  4]\n",
      "Greater:  [False  True False  True  True]\n",
      "Greater Equal:  [False  True False  True  True]\n",
      "Less:  [ True False  True False False]\n",
      "Less Equal:  [ True False  True False False]\n",
      "Equal:  [False False False False False]\n",
      "\n",
      "Equal within tolerance (±5): False\n"
     ]
    }
   ],
   "source": [
    "array1=np.array([3,65,7,3,21])\n",
    "array2=np.array([5,34,75,2,4])\n",
    "print(\"Array 1:\", array1)\n",
    "print(\"Array 2:\", array2)\n",
    "print(\"Greater: \", np.greater(array1, array2))\n",
    "print(\"Greater Equal: \", np.greater_equal(array1, array2))\n",
    "print(\"Less: \", np.less(array1, array2))\n",
    "print(\"Less Equal: \", np.less_equal(array1, array2))\n",
    "print(\"Equal: \", np.equal(array1, array2))\n",
    "tolerance = 5\n",
    "print(\"\\nEqual within tolerance (±{}):\".format(tolerance), np.allclose(array1, array2, atol=tolerance))"
   ]
  },
  {
   "cell_type": "code",
   "execution_count": null,
   "id": "cbe63041-cd9a-4cc2-8f6b-3757991aebf1",
   "metadata": {},
   "outputs": [],
   "source": []
  }
 ],
 "metadata": {
  "kernelspec": {
   "display_name": "Python 3 (ipykernel)",
   "language": "python",
   "name": "python3"
  },
  "language_info": {
   "codemirror_mode": {
    "name": "ipython",
    "version": 3
   },
   "file_extension": ".py",
   "mimetype": "text/x-python",
   "name": "python",
   "nbconvert_exporter": "python",
   "pygments_lexer": "ipython3",
   "version": "3.13.5"
  }
 },
 "nbformat": 4,
 "nbformat_minor": 5
}
